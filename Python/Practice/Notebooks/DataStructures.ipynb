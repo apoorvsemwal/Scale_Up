{
 "cells": [
  {
   "cell_type": "code",
   "execution_count": 17,
   "metadata": {},
   "outputs": [],
   "source": [
    "import numpy as np\n",
    "import pandas as pd\n",
    "\n",
    "#1.Series : 1-D one-dimensional labeled array \n",
    "#capable of holding any data type (integers, strings, floating point numbers, Python objects, etc.).\n",
    "#axis labels are collectively referred to as the index\n",
    "\n",
    "#s = pd.Series(data, index=index)\n",
    "\n",
    "#data can be many different things:\n",
    "\n",
    "#1.a Python dict\n",
    "#2.an ndarray\n",
    "#3.a scalar value (like 5)\n",
    "\n",
    "#index is a list of axis labels"
   ]
  },
  {
   "cell_type": "code",
   "execution_count": 21,
   "metadata": {},
   "outputs": [
    {
     "data": {
      "text/plain": [
       "a    5.0\n",
       "b    5.0\n",
       "c    5.0\n",
       "d    5.0\n",
       "e    5.0\n",
       "dtype: float64"
      ]
     },
     "execution_count": 21,
     "metadata": {},
     "output_type": "execute_result"
    }
   ],
   "source": [
    "#numpy.random.randn(d0, d1, …, dn) - creates an array, d0 to dn defines the dimensions, values are picked from a univariate\n",
    "#Standard Gaussian Distribution i.e. mean = 0 , variance = 1.\n",
    "#if any of the d_i are floats, they are first converted to integers by truncation). \n",
    "#A single float randomly sampled from the distribution is returned if no argument is provided.\n",
    "#Can also be manipulated as np.random.randn(2, 2 ,2) * 3 + 2 \n",
    "\n",
    "#Different ways for random numbers:\n",
    "\n",
    "#1. rand(d0, d1, …, dn) - It gives uniformly distributed random numbers whose values lies between 0 and 1. \n",
    "#Since it is uniformly distributed, therefore the mean value is 0.5\n",
    "\n",
    "#2. randn(d0, d1, …, dn) - It gives normally (Gaussian) distributed random numbers whose values \n",
    "#theoretically lies between -Infinity to Infinity having 0 mean and 1 variance.\n",
    "\n",
    "#3. randint(low[, high, size, dtype]) - Return random integers from the “discrete uniform” distribution of the specified dtype in the “half-open” interval [low, high). \n",
    "#If high is None (the default), then results are from [0, low).\n",
    "#size : int or tuple of ints - (d0, d1, …, dn) - d0 to dn defines the dimensions\n",
    "\n",
    "#From ndarray\n",
    "s1 = pd.Series(np.random.randn(5), index=['a', 'b', 'c', 'd', 'e'])\n",
    "#index must be the same length as data by default - [0, ..., len(data) - 1]\n",
    "\n",
    "#From Dict:\n",
    "s2 = pd.Series({'b' : 1, 'a' : 0, 'c' : 2})\n",
    "\n",
    "#From Scalar Value - Index is a must here\n",
    "s3 = pd.Series(5., index=['a', 'b', 'c', 'd', 'e'])\n",
    "s3\n",
    "\n",
    "#A Series is like a fixed-size dict"
   ]
  },
  {
   "cell_type": "code",
   "execution_count": 22,
   "metadata": {},
   "outputs": [],
   "source": [
    "#Note pandas supports non-unique index values. If an operation that does not support duplicate index values is attempted, \n",
    "#an exception will be raised at that time.\n",
    "\n",
    "#The reason for being lazy is nearly all performance-based. \n",
    "#(there are many instances in computations, like parts of GroupBy, where the index is not used)."
   ]
  },
  {
   "cell_type": "code",
   "execution_count": 26,
   "metadata": {},
   "outputs": [
    {
     "name": "stdout",
     "output_type": "stream",
     "text": [
      "None\n",
      "nan\n"
     ]
    }
   ],
   "source": [
    "#s3['f'] - Missing label raises exception so use get it returns None or specified default.\n",
    "print(s.get('f'))\n",
    "print(s.get('f', np.nan))"
   ]
  },
  {
   "cell_type": "code",
   "execution_count": 35,
   "metadata": {},
   "outputs": [
    {
     "data": {
      "text/plain": [
       "a      -4.586399\n",
       "b   -1107.037154\n",
       "c     -91.431978\n",
       "d    -785.759391\n",
       "e    -443.215685\n",
       "dtype: float64"
      ]
     },
     "execution_count": 35,
     "metadata": {},
     "output_type": "execute_result"
    }
   ],
   "source": [
    "#Vectorized operations and label alignment with Series\n",
    "s1 += s1\n",
    "s1\n",
    "\n",
    "np.exp(s1)\n",
    "s1"
   ]
  },
  {
   "cell_type": "code",
   "execution_count": 39,
   "metadata": {},
   "outputs": [
    {
     "data": {
      "text/plain": [
       "a    1.000000\n",
       "b    2.718282\n",
       "c    7.389056\n",
       "dtype: float64"
      ]
     },
     "execution_count": 39,
     "metadata": {},
     "output_type": "execute_result"
    }
   ],
   "source": [
    "s4 = pd.Series({'a' : 0, 'b' : 1, 'c' : 2})\n",
    "np.exp(s4) #This alone does not modify the series. An assingment has to be done."
   ]
  },
  {
   "cell_type": "code",
   "execution_count": 43,
   "metadata": {},
   "outputs": [
    {
     "data": {
      "text/plain": [
       "a    0.0\n",
       "b    NaN\n",
       "c    NaN\n",
       "dtype: float64"
      ]
     },
     "execution_count": 43,
     "metadata": {},
     "output_type": "execute_result"
    }
   ],
   "source": [
    "#A key difference between Series and ndarray is that operations between Series automatically align the data based on label. \n",
    "#Thus, you can write computations without giving consideration to whether the Series involved have the same labels.\n",
    "s4[:1] + s4[:]\n",
    "\n",
    "#The result of an operation between unaligned Series will have the union of the indexes involved. \n",
    "#If a label is not found in one Series or the other, the result will be marked as missing NaN."
   ]
  },
  {
   "cell_type": "code",
   "execution_count": null,
   "metadata": {},
   "outputs": [],
   "source": [
    "#Data Frame: a 2-dimensional labeled data structure with columns of potentially different types.\n",
    "#Like a dict of Series objects.\n",
    "\n",
    "#Along with the data, you can optionally pass index (row labels) and columns (column labels) arguments.\n",
    "#From dictionary of series:\n"
   ]
  }
 ],
 "metadata": {
  "kernelspec": {
   "display_name": "Python 3",
   "language": "python",
   "name": "python3"
  },
  "language_info": {
   "codemirror_mode": {
    "name": "ipython",
    "version": 3
   },
   "file_extension": ".py",
   "mimetype": "text/x-python",
   "name": "python",
   "nbconvert_exporter": "python",
   "pygments_lexer": "ipython3",
   "version": "3.7.0"
  }
 },
 "nbformat": 4,
 "nbformat_minor": 2
}
