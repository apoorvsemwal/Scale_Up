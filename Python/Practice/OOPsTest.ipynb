{
 "cells": [
  {
   "cell_type": "code",
   "execution_count": 50,
   "metadata": {},
   "outputs": [],
   "source": [
    "class HelloWorld:\n",
    "    \n",
    "    c = \"Static variable\"\n",
    "    \n",
    "    def print_me(self):\n",
    "        print(self.a)\n",
    "        print(self.__b)\n",
    "        print(self.name)\n",
    "    \n",
    "    @staticmethod\n",
    "    def print_static():\n",
    "        print(HelloWorld.c)\n",
    "        print(\"Within Static method\")\n",
    "        \n",
    "    def __init__(self, name):\n",
    "        self.a    = \"Instance Attribute\"\n",
    "        self.__b  = \"Private Variables\"\n",
    "        self.name = name\n",
    "        print(\"Within Constructor\")\n",
    "\n",
    "    @classmethod\n",
    "    def alternate_init(cls):\n",
    "        return cls(\"An alternative way to initialize.\") #Call to orginal constructor"
   ]
  },
  {
   "cell_type": "code",
   "execution_count": 51,
   "metadata": {},
   "outputs": [
    {
     "name": "stdout",
     "output_type": "stream",
     "text": [
      "Static variable\n",
      "Within Static method\n",
      "Within Constructor\n"
     ]
    }
   ],
   "source": [
    "HelloWorld.print_static()\n",
    "hw = HelloWorld(\"Apoorv\")"
   ]
  },
  {
   "cell_type": "code",
   "execution_count": 52,
   "metadata": {},
   "outputs": [
    {
     "name": "stdout",
     "output_type": "stream",
     "text": [
      "Instance Attribute\n",
      "Private Variables\n",
      "Apoorv\n"
     ]
    }
   ],
   "source": [
    "hw.print_me()"
   ]
  },
  {
   "cell_type": "code",
   "execution_count": 53,
   "metadata": {},
   "outputs": [
    {
     "data": {
      "text/plain": [
       "'Instance Attribute'"
      ]
     },
     "execution_count": 53,
     "metadata": {},
     "output_type": "execute_result"
    }
   ],
   "source": [
    "hw.a"
   ]
  },
  {
   "cell_type": "code",
   "execution_count": 54,
   "metadata": {},
   "outputs": [
    {
     "data": {
      "text/plain": [
       "'Private Variables'"
      ]
     },
     "execution_count": 54,
     "metadata": {},
     "output_type": "execute_result"
    }
   ],
   "source": [
    "hw._HelloWorld__b # Name Mangling to access private variables"
   ]
  },
  {
   "cell_type": "code",
   "execution_count": 57,
   "metadata": {},
   "outputs": [
    {
     "name": "stdout",
     "output_type": "stream",
     "text": [
      "Within Constructor\n"
     ]
    }
   ],
   "source": [
    "hw2 = HelloWorld.alternate_init() #An alternative way to initialize."
   ]
  },
  {
   "cell_type": "code",
   "execution_count": 58,
   "metadata": {},
   "outputs": [
    {
     "data": {
      "text/plain": [
       "'An alternative way to initialize.'"
      ]
     },
     "execution_count": 58,
     "metadata": {},
     "output_type": "execute_result"
    }
   ],
   "source": [
    "hw2.name"
   ]
  },
  {
   "cell_type": "code",
   "execution_count": 59,
   "metadata": {},
   "outputs": [],
   "source": [
    "############# CASE STUDY ####################"
   ]
  },
  {
   "cell_type": "code",
   "execution_count": 72,
   "metadata": {},
   "outputs": [],
   "source": [
    "class FetchData:\n",
    "            \n",
    "    def __init__(self, username, password, variable_name):\n",
    "        self.connection = Connect.initialise_me(username,password)\n",
    "        self.a    = \"this is a\"\n",
    "        self.b    = \"this is b\"\n",
    "        self.variable_name = variable_name\n",
    "        self.username      = username\n",
    "        self.password      = password\n",
    "    \n",
    "    def print_me(self):\n",
    "        #if self.connection.is_valid and self.variable_name == \"a\":\n",
    "            #print(self.a)\n",
    "        #elif self.connection.is_valid and self.variable_name == \"b\":\n",
    "            #print(self.b)\n",
    "        if self.connection.is_valid:\n",
    "            print(getattr(self,self.variable_name)) #Find value of self.variable_name as an attribute in object self\n",
    "        else:\n",
    "            print(\"Error\")\n",
    "\n",
    "class Connect:\n",
    "    \n",
    "    sessions = {}\n",
    "    \n",
    "    def __init__(self, username, password):\n",
    "        if (username == \"username1\" and password == \"password1\") or (username == \"username2\" and password == \"password2\"):\n",
    "            self.is_valid = True\n",
    "        else:\n",
    "            self.is_valid = False\n",
    "            \n",
    "    @classmethod\n",
    "    def initialise_me(cls, username, password):\n",
    "        if not Connect.sessions.get(username+password):\n",
    "            Connect.sessions[username+password] = cls(username,password)\n",
    "        return Connect.sessions.get(username+password)"
   ]
  },
  {
   "cell_type": "code",
   "execution_count": 73,
   "metadata": {},
   "outputs": [
    {
     "name": "stdout",
     "output_type": "stream",
     "text": [
      "this is a\n",
      "this is b\n"
     ]
    }
   ],
   "source": [
    "FetchData(\"username1\",\"password1\",\"a\").print_me()\n",
    "FetchData(\"username1\",\"password1\",\"b\").print_me()"
   ]
  },
  {
   "cell_type": "code",
   "execution_count": 74,
   "metadata": {},
   "outputs": [
    {
     "name": "stdout",
     "output_type": "stream",
     "text": [
      "Error\n"
     ]
    }
   ],
   "source": [
    "FetchData(\"username1\",\"password2\",\"a\").print_me()"
   ]
  },
  {
   "cell_type": "code",
   "execution_count": null,
   "metadata": {},
   "outputs": [],
   "source": []
  },
  {
   "cell_type": "code",
   "execution_count": null,
   "metadata": {},
   "outputs": [],
   "source": []
  }
 ],
 "metadata": {
  "kernelspec": {
   "display_name": "Python 3",
   "language": "python",
   "name": "python3"
  },
  "language_info": {
   "codemirror_mode": {
    "name": "ipython",
    "version": 3
   },
   "file_extension": ".py",
   "mimetype": "text/x-python",
   "name": "python",
   "nbconvert_exporter": "python",
   "pygments_lexer": "ipython3",
   "version": "3.7.0"
  }
 },
 "nbformat": 4,
 "nbformat_minor": 2
}
