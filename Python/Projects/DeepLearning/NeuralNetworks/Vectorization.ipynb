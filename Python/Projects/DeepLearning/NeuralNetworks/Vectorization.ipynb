{
 "cells": [
  {
   "cell_type": "code",
   "execution_count": 1,
   "metadata": {},
   "outputs": [],
   "source": [
    "import numpy as np\n",
    "import time"
   ]
  },
  {
   "cell_type": "code",
   "execution_count": 24,
   "metadata": {},
   "outputs": [
    {
     "name": "stdout",
     "output_type": "stream",
     "text": [
      "Vectorized Implementation:2.0017623901367188ms\n"
     ]
    }
   ],
   "source": [
    "a = np.random.rand(1000000)\n",
    "b = np.random.rand(1000000)\n",
    "\n",
    "tic = time.time()\n",
    "c = np.dot(a,b)\n",
    "toc = time.time()\n",
    "\n",
    "print(\"Vectorized Implementation:\" + str(1000*(toc-tic)) + \"ms\")"
   ]
  },
  {
   "cell_type": "code",
   "execution_count": 25,
   "metadata": {},
   "outputs": [
    {
     "name": "stdout",
     "output_type": "stream",
     "text": [
      "For Loop-Non Vectorized Implementation:594.6910381317139ms\n"
     ]
    }
   ],
   "source": [
    "c = 0\n",
    "tic = time.time()\n",
    "for i in range(1000000):\n",
    "    c+=a[i] * b[i]\n",
    "toc = time.time()\n",
    "\n",
    "print(\"For Loop-Non Vectorized Implementation:\" + str(1000*(toc-tic)) + \"ms\")"
   ]
  },
  {
   "cell_type": "code",
   "execution_count": 23,
   "metadata": {},
   "outputs": [],
   "source": [
    "#Almost 300Times Slower than Vectorized Version."
   ]
  },
  {
   "cell_type": "code",
   "execution_count": 59,
   "metadata": {},
   "outputs": [
    {
     "name": "stdout",
     "output_type": "stream",
     "text": [
      "[ 0.76640006  0.62039664 -0.41548362 -0.11927308  0.43225054]\n"
     ]
    },
    {
     "data": {
      "text/plain": [
       "(5,)"
      ]
     },
     "execution_count": 59,
     "metadata": {},
     "output_type": "execute_result"
    }
   ],
   "source": [
    "A = np.random.randn(5)  #Returns a Numpy Array which is different from a Matrix.\n",
    "print(A)\n",
    "np.shape(A) #Its just a Rank-1 array - Does not behave consistently either as a Row Vector or as a Col Vector"
   ]
  },
  {
   "cell_type": "code",
   "execution_count": 60,
   "metadata": {},
   "outputs": [
    {
     "name": "stdout",
     "output_type": "stream",
     "text": [
      "[ 0.76640006  0.62039664 -0.41548362 -0.11927308  0.43225054]\n",
      "1.345954279097916\n",
      "[[ 0.76640006]\n",
      " [ 0.62039664]\n",
      " [-0.41548362]\n",
      " [-0.11927308]\n",
      " [ 0.43225054]]\n"
     ]
    }
   ],
   "source": [
    "print(A.T) #Transpose is not giving us proper result as its not a Matrix.\n",
    "print(np.dot(A,A.T)) #Generates a scalar - Inner Product\n",
    "\n",
    "#So we convert it using Reshape.\n",
    "A = A.reshape(5,1)\n",
    "print(A)"
   ]
  },
  {
   "cell_type": "code",
   "execution_count": 61,
   "metadata": {},
   "outputs": [
    {
     "name": "stdout",
     "output_type": "stream",
     "text": [
      "[[-1.42922865]\n",
      " [-1.71430664]\n",
      " [-0.65160029]\n",
      " [-1.29201746]\n",
      " [ 1.91415327]]\n",
      "[[-1.42922865 -1.71430664 -0.65160029 -1.29201746  1.91415327]]\n"
     ]
    }
   ],
   "source": [
    "B = np.random.randn(5,1)\n",
    "print(B) #Returns a 5X1 - Col Vector\n",
    "print(B.T)\n",
    "assert(B.shape==(5,1))"
   ]
  },
  {
   "cell_type": "code",
   "execution_count": 62,
   "metadata": {},
   "outputs": [
    {
     "name": "stdout",
     "output_type": "stream",
     "text": [
      "[[ 2.04269453  2.45013617  0.9312858   1.84658837 -2.73576268]\n",
      " [ 2.45013617  2.93884727  1.11704271  2.21491412 -3.28144566]\n",
      " [ 0.9312858   1.11704271  0.42458294  0.84187895 -1.24726283]\n",
      " [ 1.84658837  2.21491412  0.84187895  1.66930912 -2.47311944]\n",
      " [-2.73576268 -3.28144566 -1.24726283 -2.47311944  3.66398273]]\n"
     ]
    }
   ],
   "source": [
    "print(np.dot(B,B.T)) #Generates a outer Product"
   ]
  },
  {
   "cell_type": "code",
   "execution_count": null,
   "metadata": {},
   "outputs": [],
   "source": []
  },
  {
   "cell_type": "code",
   "execution_count": null,
   "metadata": {},
   "outputs": [],
   "source": []
  },
  {
   "cell_type": "code",
   "execution_count": null,
   "metadata": {},
   "outputs": [],
   "source": []
  }
 ],
 "metadata": {
  "kernelspec": {
   "display_name": "Python 3",
   "language": "python",
   "name": "python3"
  },
  "language_info": {
   "codemirror_mode": {
    "name": "ipython",
    "version": 3
   },
   "file_extension": ".py",
   "mimetype": "text/x-python",
   "name": "python",
   "nbconvert_exporter": "python",
   "pygments_lexer": "ipython3",
   "version": "3.7.0"
  }
 },
 "nbformat": 4,
 "nbformat_minor": 2
}
